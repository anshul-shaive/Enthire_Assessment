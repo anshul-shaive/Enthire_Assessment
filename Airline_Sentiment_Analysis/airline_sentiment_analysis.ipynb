{
  "nbformat": 4,
  "nbformat_minor": 0,
  "metadata": {
    "colab": {
      "name": "airline_sentiment_analysis.ipynb",
      "provenance": [],
      "collapsed_sections": []
    },
    "kernelspec": {
      "name": "python3",
      "display_name": "Python 3"
    },
    "accelerator": "GPU",
    "widgets": {
      "application/vnd.jupyter.widget-state+json": {
        "836ac09f715743d0ba18db3df63d5619": {
          "model_module": "@jupyter-widgets/controls",
          "model_name": "HBoxModel",
          "state": {
            "_view_name": "HBoxView",
            "_dom_classes": [],
            "_model_name": "HBoxModel",
            "_view_module": "@jupyter-widgets/controls",
            "_model_module_version": "1.5.0",
            "_view_count": null,
            "_view_module_version": "1.5.0",
            "box_style": "",
            "layout": "IPY_MODEL_0a7c21673eda44b4ab5ca516e55364a4",
            "_model_module": "@jupyter-widgets/controls",
            "children": [
              "IPY_MODEL_0a4dd61ccfde49b89e222975c83c631f",
              "IPY_MODEL_90d74880168941eb81a84e53d44ab663"
            ]
          }
        },
        "0a7c21673eda44b4ab5ca516e55364a4": {
          "model_module": "@jupyter-widgets/base",
          "model_name": "LayoutModel",
          "state": {
            "_view_name": "LayoutView",
            "grid_template_rows": null,
            "right": null,
            "justify_content": null,
            "_view_module": "@jupyter-widgets/base",
            "overflow": null,
            "_model_module_version": "1.2.0",
            "_view_count": null,
            "flex_flow": null,
            "width": null,
            "min_width": null,
            "border": null,
            "align_items": null,
            "bottom": null,
            "_model_module": "@jupyter-widgets/base",
            "top": null,
            "grid_column": null,
            "overflow_y": null,
            "overflow_x": null,
            "grid_auto_flow": null,
            "grid_area": null,
            "grid_template_columns": null,
            "flex": null,
            "_model_name": "LayoutModel",
            "justify_items": null,
            "grid_row": null,
            "max_height": null,
            "align_content": null,
            "visibility": null,
            "align_self": null,
            "height": null,
            "min_height": null,
            "padding": null,
            "grid_auto_rows": null,
            "grid_gap": null,
            "max_width": null,
            "order": null,
            "_view_module_version": "1.2.0",
            "grid_template_areas": null,
            "object_position": null,
            "object_fit": null,
            "grid_auto_columns": null,
            "margin": null,
            "display": null,
            "left": null
          }
        },
        "0a4dd61ccfde49b89e222975c83c631f": {
          "model_module": "@jupyter-widgets/controls",
          "model_name": "FloatProgressModel",
          "state": {
            "_view_name": "ProgressView",
            "style": "IPY_MODEL_616d9bb85da04f1da081c54b4c097dd1",
            "_dom_classes": [],
            "description": "Downloading: 100%",
            "_model_name": "FloatProgressModel",
            "bar_style": "success",
            "max": 231508,
            "_view_module": "@jupyter-widgets/controls",
            "_model_module_version": "1.5.0",
            "value": 231508,
            "_view_count": null,
            "_view_module_version": "1.5.0",
            "orientation": "horizontal",
            "min": 0,
            "description_tooltip": null,
            "_model_module": "@jupyter-widgets/controls",
            "layout": "IPY_MODEL_6fe97c38f6fd4289a3b2b90a5d63a03d"
          }
        },
        "90d74880168941eb81a84e53d44ab663": {
          "model_module": "@jupyter-widgets/controls",
          "model_name": "HTMLModel",
          "state": {
            "_view_name": "HTMLView",
            "style": "IPY_MODEL_daa5d0795df0477ba4546798c31223fc",
            "_dom_classes": [],
            "description": "",
            "_model_name": "HTMLModel",
            "placeholder": "​",
            "_view_module": "@jupyter-widgets/controls",
            "_model_module_version": "1.5.0",
            "value": " 232k/232k [00:00&lt;00:00, 808kB/s]",
            "_view_count": null,
            "_view_module_version": "1.5.0",
            "description_tooltip": null,
            "_model_module": "@jupyter-widgets/controls",
            "layout": "IPY_MODEL_431475bf75444ca0866d2328cfb08633"
          }
        },
        "616d9bb85da04f1da081c54b4c097dd1": {
          "model_module": "@jupyter-widgets/controls",
          "model_name": "ProgressStyleModel",
          "state": {
            "_view_name": "StyleView",
            "_model_name": "ProgressStyleModel",
            "description_width": "initial",
            "_view_module": "@jupyter-widgets/base",
            "_model_module_version": "1.5.0",
            "_view_count": null,
            "_view_module_version": "1.2.0",
            "bar_color": null,
            "_model_module": "@jupyter-widgets/controls"
          }
        },
        "6fe97c38f6fd4289a3b2b90a5d63a03d": {
          "model_module": "@jupyter-widgets/base",
          "model_name": "LayoutModel",
          "state": {
            "_view_name": "LayoutView",
            "grid_template_rows": null,
            "right": null,
            "justify_content": null,
            "_view_module": "@jupyter-widgets/base",
            "overflow": null,
            "_model_module_version": "1.2.0",
            "_view_count": null,
            "flex_flow": null,
            "width": null,
            "min_width": null,
            "border": null,
            "align_items": null,
            "bottom": null,
            "_model_module": "@jupyter-widgets/base",
            "top": null,
            "grid_column": null,
            "overflow_y": null,
            "overflow_x": null,
            "grid_auto_flow": null,
            "grid_area": null,
            "grid_template_columns": null,
            "flex": null,
            "_model_name": "LayoutModel",
            "justify_items": null,
            "grid_row": null,
            "max_height": null,
            "align_content": null,
            "visibility": null,
            "align_self": null,
            "height": null,
            "min_height": null,
            "padding": null,
            "grid_auto_rows": null,
            "grid_gap": null,
            "max_width": null,
            "order": null,
            "_view_module_version": "1.2.0",
            "grid_template_areas": null,
            "object_position": null,
            "object_fit": null,
            "grid_auto_columns": null,
            "margin": null,
            "display": null,
            "left": null
          }
        },
        "daa5d0795df0477ba4546798c31223fc": {
          "model_module": "@jupyter-widgets/controls",
          "model_name": "DescriptionStyleModel",
          "state": {
            "_view_name": "StyleView",
            "_model_name": "DescriptionStyleModel",
            "description_width": "",
            "_view_module": "@jupyter-widgets/base",
            "_model_module_version": "1.5.0",
            "_view_count": null,
            "_view_module_version": "1.2.0",
            "_model_module": "@jupyter-widgets/controls"
          }
        },
        "431475bf75444ca0866d2328cfb08633": {
          "model_module": "@jupyter-widgets/base",
          "model_name": "LayoutModel",
          "state": {
            "_view_name": "LayoutView",
            "grid_template_rows": null,
            "right": null,
            "justify_content": null,
            "_view_module": "@jupyter-widgets/base",
            "overflow": null,
            "_model_module_version": "1.2.0",
            "_view_count": null,
            "flex_flow": null,
            "width": null,
            "min_width": null,
            "border": null,
            "align_items": null,
            "bottom": null,
            "_model_module": "@jupyter-widgets/base",
            "top": null,
            "grid_column": null,
            "overflow_y": null,
            "overflow_x": null,
            "grid_auto_flow": null,
            "grid_area": null,
            "grid_template_columns": null,
            "flex": null,
            "_model_name": "LayoutModel",
            "justify_items": null,
            "grid_row": null,
            "max_height": null,
            "align_content": null,
            "visibility": null,
            "align_self": null,
            "height": null,
            "min_height": null,
            "padding": null,
            "grid_auto_rows": null,
            "grid_gap": null,
            "max_width": null,
            "order": null,
            "_view_module_version": "1.2.0",
            "grid_template_areas": null,
            "object_position": null,
            "object_fit": null,
            "grid_auto_columns": null,
            "margin": null,
            "display": null,
            "left": null
          }
        }
      }
    }
  },
  "cells": [
    {
      "cell_type": "code",
      "metadata": {
        "colab": {
          "base_uri": "https://localhost:8080/"
        },
        "id": "iWS1HkbzqO4C",
        "outputId": "ad544975-f394-4726-9390-290cf87e8dd0"
      },
      "source": [
        "from google.colab import drive\n",
        "drive.mount('/content/drive')"
      ],
      "execution_count": null,
      "outputs": [
        {
          "output_type": "stream",
          "text": [
            "Mounted at /content/drive\n"
          ],
          "name": "stdout"
        }
      ]
    },
    {
      "cell_type": "code",
      "metadata": {
        "id": "nHoMtAj5qcAb"
      },
      "source": [
        "import numpy as np\n",
        "import pandas as pd"
      ],
      "execution_count": null,
      "outputs": []
    },
    {
      "cell_type": "code",
      "metadata": {
        "id": "VyWrtUy7qZYP"
      },
      "source": [
        "from sklearn.model_selection import train_test_split\n",
        "from sklearn.metrics import mean_squared_error\n",
        "import keras\n",
        "import keras.layers as layers\n",
        "import tensorflow as tf"
      ],
      "execution_count": null,
      "outputs": []
    },
    {
      "cell_type": "code",
      "metadata": {
        "id": "0Pxsxg3srYXY"
      },
      "source": [
        "from keras.preprocessing.text import Tokenizer\n",
        "from keras.preprocessing.sequence import pad_sequences"
      ],
      "execution_count": null,
      "outputs": []
    },
    {
      "cell_type": "code",
      "metadata": {
        "id": "fr1MUoSFvX_i"
      },
      "source": [
        "from keras.layers import Input, Dropout, Dense, BatchNormalization, Activation, concatenate, GRU, Embedding, Flatten\n",
        "from keras.models import Model\n",
        "from keras.callbacks import ModelCheckpoint, Callback, EarlyStopping\n",
        "from keras import backend as K\n",
        "import pickle"
      ],
      "execution_count": null,
      "outputs": []
    },
    {
      "cell_type": "code",
      "metadata": {
        "id": "AiPjlZfzqo2k"
      },
      "source": [
        "df=pd.read_csv(\"/content/drive/MyDrive/Enthire/airline_sentiment_analysis.csv\")"
      ],
      "execution_count": null,
      "outputs": []
    },
    {
      "cell_type": "code",
      "metadata": {
        "colab": {
          "base_uri": "https://localhost:8080/"
        },
        "id": "HpzRWtRYq3Rc",
        "outputId": "d772abcc-42a8-459f-9aea-6c44d746184b"
      },
      "source": [
        "df.shape"
      ],
      "execution_count": null,
      "outputs": [
        {
          "output_type": "execute_result",
          "data": {
            "text/plain": [
              "(11541, 3)"
            ]
          },
          "metadata": {
            "tags": []
          },
          "execution_count": 14
        }
      ]
    },
    {
      "cell_type": "code",
      "metadata": {
        "colab": {
          "base_uri": "https://localhost:8080/",
          "height": 196
        },
        "id": "7_Kn3GMoq3UD",
        "outputId": "1324a1ce-c759-4131-ed2b-fc8851a4421e"
      },
      "source": [
        "df.head(5)"
      ],
      "execution_count": null,
      "outputs": [
        {
          "output_type": "execute_result",
          "data": {
            "text/html": [
              "<div>\n",
              "<style scoped>\n",
              "    .dataframe tbody tr th:only-of-type {\n",
              "        vertical-align: middle;\n",
              "    }\n",
              "\n",
              "    .dataframe tbody tr th {\n",
              "        vertical-align: top;\n",
              "    }\n",
              "\n",
              "    .dataframe thead th {\n",
              "        text-align: right;\n",
              "    }\n",
              "</style>\n",
              "<table border=\"1\" class=\"dataframe\">\n",
              "  <thead>\n",
              "    <tr style=\"text-align: right;\">\n",
              "      <th></th>\n",
              "      <th>Unnamed: 0</th>\n",
              "      <th>airline_sentiment</th>\n",
              "      <th>text</th>\n",
              "    </tr>\n",
              "  </thead>\n",
              "  <tbody>\n",
              "    <tr>\n",
              "      <th>0</th>\n",
              "      <td>1</td>\n",
              "      <td>positive</td>\n",
              "      <td>@VirginAmerica plus you've added commercials t...</td>\n",
              "    </tr>\n",
              "    <tr>\n",
              "      <th>1</th>\n",
              "      <td>3</td>\n",
              "      <td>negative</td>\n",
              "      <td>@VirginAmerica it's really aggressive to blast...</td>\n",
              "    </tr>\n",
              "    <tr>\n",
              "      <th>2</th>\n",
              "      <td>4</td>\n",
              "      <td>negative</td>\n",
              "      <td>@VirginAmerica and it's a really big bad thing...</td>\n",
              "    </tr>\n",
              "    <tr>\n",
              "      <th>3</th>\n",
              "      <td>5</td>\n",
              "      <td>negative</td>\n",
              "      <td>@VirginAmerica seriously would pay $30 a fligh...</td>\n",
              "    </tr>\n",
              "    <tr>\n",
              "      <th>4</th>\n",
              "      <td>6</td>\n",
              "      <td>positive</td>\n",
              "      <td>@VirginAmerica yes, nearly every time I fly VX...</td>\n",
              "    </tr>\n",
              "  </tbody>\n",
              "</table>\n",
              "</div>"
            ],
            "text/plain": [
              "   Unnamed: 0  ...                                               text\n",
              "0           1  ...  @VirginAmerica plus you've added commercials t...\n",
              "1           3  ...  @VirginAmerica it's really aggressive to blast...\n",
              "2           4  ...  @VirginAmerica and it's a really big bad thing...\n",
              "3           5  ...  @VirginAmerica seriously would pay $30 a fligh...\n",
              "4           6  ...  @VirginAmerica yes, nearly every time I fly VX...\n",
              "\n",
              "[5 rows x 3 columns]"
            ]
          },
          "metadata": {
            "tags": []
          },
          "execution_count": 15
        }
      ]
    },
    {
      "cell_type": "code",
      "metadata": {
        "id": "mFIMRs6Vq3XP"
      },
      "source": [
        "df=df.iloc[:,1:]"
      ],
      "execution_count": null,
      "outputs": []
    },
    {
      "cell_type": "code",
      "metadata": {
        "colab": {
          "base_uri": "https://localhost:8080/",
          "height": 35
        },
        "id": "WYWPpP09q-Rl",
        "outputId": "d948196d-6bfb-4919-849b-f5d2bea51d5f"
      },
      "source": [
        "df.iloc[100].text"
      ],
      "execution_count": null,
      "outputs": [
        {
          "output_type": "execute_result",
          "data": {
            "application/vnd.google.colaboratory.intrinsic+json": {
              "type": "string"
            },
            "text/plain": [
              "\".@VirginAmerica I don't understand why you need a DM to give me an answer on if you have a damaged luggage policy.\""
            ]
          },
          "metadata": {
            "tags": []
          },
          "execution_count": 17
        }
      ]
    },
    {
      "cell_type": "markdown",
      "metadata": {
        "id": "ILD9vSwaBQCV"
      },
      "source": [
        "Replace class label positive with 1 and negative with 0"
      ]
    },
    {
      "cell_type": "code",
      "metadata": {
        "id": "tBysZVDjrBas"
      },
      "source": [
        "df['airline_sentiment'][df.airline_sentiment=='positive']=1\n",
        "df['airline_sentiment'][df.airline_sentiment=='negative']=0"
      ],
      "execution_count": null,
      "outputs": []
    },
    {
      "cell_type": "markdown",
      "metadata": {
        "id": "BtQRTfEZBaL2"
      },
      "source": [
        "Set aside 15% data for testing"
      ]
    },
    {
      "cell_type": "code",
      "metadata": {
        "id": "8YqwLVibrE9k"
      },
      "source": [
        "dftrain,dtest=train_test_split(df,train_size=0.85)"
      ],
      "execution_count": null,
      "outputs": []
    },
    {
      "cell_type": "markdown",
      "metadata": {
        "id": "_jV2uvmHBiVO"
      },
      "source": [
        "Further split training data between train and validation set"
      ]
    },
    {
      "cell_type": "code",
      "metadata": {
        "id": "6OijxJKJrITE"
      },
      "source": [
        "dtrain,dval=train_test_split(dftrain,train_size=0.85)"
      ],
      "execution_count": null,
      "outputs": []
    },
    {
      "cell_type": "code",
      "metadata": {
        "colab": {
          "base_uri": "https://localhost:8080/"
        },
        "id": "MmbXf31irIqM",
        "outputId": "d155e466-125f-4f74-f8ff-edcc56104e7b"
      },
      "source": [
        "print(dtrain.shape)\n",
        "print(dval.shape)\n",
        "print(dtest.shape)"
      ],
      "execution_count": null,
      "outputs": [
        {
          "output_type": "stream",
          "text": [
            "(8337, 2)\n",
            "(1472, 2)\n",
            "(1732, 2)\n"
          ],
          "name": "stdout"
        }
      ]
    },
    {
      "cell_type": "code",
      "metadata": {
        "id": "m9GJPfcjBtai"
      },
      "source": [
        ""
      ],
      "execution_count": null,
      "outputs": []
    },
    {
      "cell_type": "markdown",
      "metadata": {
        "id": "TZIoMsxYBtkE"
      },
      "source": [
        "Convert text reviews to numeric values using Tokenizer"
      ]
    },
    {
      "cell_type": "code",
      "metadata": {
        "colab": {
          "base_uri": "https://localhost:8080/"
        },
        "id": "m6GGqZNzrPfE",
        "outputId": "91720f06-013b-43cc-a610-c42cca048d68"
      },
      "source": [
        "tok_raw = Tokenizer()\n",
        "\n",
        "raw_text = np.hstack([dtrain.text.str.lower(), dval.text.str.lower(), dtest.text.str.lower()])\n",
        "tok_raw.fit_on_texts(raw_text)\n",
        "\n",
        "dtrain[\"text\"] = tok_raw.texts_to_sequences(dtrain.text.str.lower())\n",
        "dval[\"text\"] = tok_raw.texts_to_sequences(dval.text.str.lower())\n",
        "dtest[\"text\"] = tok_raw.texts_to_sequences(dtest.text.str.lower())"
      ],
      "execution_count": null,
      "outputs": [
        {
          "output_type": "stream",
          "text": [
            "/usr/local/lib/python3.6/dist-packages/ipykernel_launcher.py:6: SettingWithCopyWarning: \n",
            "A value is trying to be set on a copy of a slice from a DataFrame.\n",
            "Try using .loc[row_indexer,col_indexer] = value instead\n",
            "\n",
            "See the caveats in the documentation: https://pandas.pydata.org/pandas-docs/stable/user_guide/indexing.html#returning-a-view-versus-a-copy\n",
            "  \n",
            "/usr/local/lib/python3.6/dist-packages/ipykernel_launcher.py:7: SettingWithCopyWarning: \n",
            "A value is trying to be set on a copy of a slice from a DataFrame.\n",
            "Try using .loc[row_indexer,col_indexer] = value instead\n",
            "\n",
            "See the caveats in the documentation: https://pandas.pydata.org/pandas-docs/stable/user_guide/indexing.html#returning-a-view-versus-a-copy\n",
            "  import sys\n",
            "/usr/local/lib/python3.6/dist-packages/ipykernel_launcher.py:8: SettingWithCopyWarning: \n",
            "A value is trying to be set on a copy of a slice from a DataFrame.\n",
            "Try using .loc[row_indexer,col_indexer] = value instead\n",
            "\n",
            "See the caveats in the documentation: https://pandas.pydata.org/pandas-docs/stable/user_guide/indexing.html#returning-a-view-versus-a-copy\n",
            "  \n"
          ],
          "name": "stderr"
        }
      ]
    },
    {
      "cell_type": "code",
      "metadata": {
        "colab": {
          "base_uri": "https://localhost:8080/",
          "height": 196
        },
        "id": "flyAbudbsL4I",
        "outputId": "aea9e0be-2579-4a66-c36b-993fa901c665"
      },
      "source": [
        "dtrain.head()"
      ],
      "execution_count": null,
      "outputs": [
        {
          "output_type": "execute_result",
          "data": {
            "text/html": [
              "<div>\n",
              "<style scoped>\n",
              "    .dataframe tbody tr th:only-of-type {\n",
              "        vertical-align: middle;\n",
              "    }\n",
              "\n",
              "    .dataframe tbody tr th {\n",
              "        vertical-align: top;\n",
              "    }\n",
              "\n",
              "    .dataframe thead th {\n",
              "        text-align: right;\n",
              "    }\n",
              "</style>\n",
              "<table border=\"1\" class=\"dataframe\">\n",
              "  <thead>\n",
              "    <tr style=\"text-align: right;\">\n",
              "      <th></th>\n",
              "      <th>airline_sentiment</th>\n",
              "      <th>text</th>\n",
              "    </tr>\n",
              "  </thead>\n",
              "  <tbody>\n",
              "    <tr>\n",
              "      <th>6641</th>\n",
              "      <td>0</td>\n",
              "      <td>[18, 55, 7, 360, 193, 4, 1348, 17, 4076, 120, ...</td>\n",
              "    </tr>\n",
              "    <tr>\n",
              "      <th>7870</th>\n",
              "      <td>0</td>\n",
              "      <td>[12, 118, 41, 10, 55, 216, 444, 1511, 94, 1, 6...</td>\n",
              "    </tr>\n",
              "    <tr>\n",
              "      <th>3181</th>\n",
              "      <td>0</td>\n",
              "      <td>[5, 44, 202, 253, 682, 81, 275, 9, 64, 561, 6,...</td>\n",
              "    </tr>\n",
              "    <tr>\n",
              "      <th>11363</th>\n",
              "      <td>0</td>\n",
              "      <td>[13, 406, 727, 17, 11, 8, 43, 482, 175, 85, 41...</td>\n",
              "    </tr>\n",
              "    <tr>\n",
              "      <th>10347</th>\n",
              "      <td>0</td>\n",
              "      <td>[13, 11, 5711, 8, 257, 272, 22, 33, 79, 339, 3...</td>\n",
              "    </tr>\n",
              "  </tbody>\n",
              "</table>\n",
              "</div>"
            ],
            "text/plain": [
              "      airline_sentiment                                               text\n",
              "6641                  0  [18, 55, 7, 360, 193, 4, 1348, 17, 4076, 120, ...\n",
              "7870                  0  [12, 118, 41, 10, 55, 216, 444, 1511, 94, 1, 6...\n",
              "3181                  0  [5, 44, 202, 253, 682, 81, 275, 9, 64, 561, 6,...\n",
              "11363                 0  [13, 406, 727, 17, 11, 8, 43, 482, 175, 85, 41...\n",
              "10347                 0  [13, 11, 5711, 8, 257, 272, 22, 33, 79, 339, 3..."
            ]
          },
          "metadata": {
            "tags": []
          },
          "execution_count": 16
        }
      ]
    },
    {
      "cell_type": "markdown",
      "metadata": {
        "id": "KNURh42yCiqo"
      },
      "source": [
        "Get the max len of tokenized review. It will also be used when making api calls"
      ]
    },
    {
      "cell_type": "code",
      "metadata": {
        "colab": {
          "base_uri": "https://localhost:8080/"
        },
        "id": "Q4PqzOHesS-u",
        "outputId": "2a31f3ce-cca5-4745-d349-fa48a12a9bea"
      },
      "source": [
        "#SEQUENCE VARIABLES ANALYSIS\n",
        "max_text_seq = np.max( [np.max(dtrain.text.apply(lambda x: len(x))), \n",
        "                        np.max(dval.text.apply(lambda x: len(x))),\n",
        "                        np.max(dtest.text.apply(lambda x: len(x))),\n",
        "                        ] )\n",
        "print(\"max name seq \"+str(max_text_seq))"
      ],
      "execution_count": null,
      "outputs": [
        {
          "output_type": "stream",
          "text": [
            "max name seq 36\n"
          ],
          "name": "stdout"
        }
      ]
    },
    {
      "cell_type": "markdown",
      "metadata": {
        "id": "BkeuJ02fC2vo"
      },
      "source": [
        "Plotting histograms to check variations in tokenized review length"
      ]
    },
    {
      "cell_type": "code",
      "metadata": {
        "colab": {
          "base_uri": "https://localhost:8080/",
          "height": 281
        },
        "id": "ZI9ZWL2MtJ51",
        "outputId": "c612e7d0-6c9f-400e-f065-b984af241847"
      },
      "source": [
        "dtrain.text.apply(lambda x: len(x)).hist()"
      ],
      "execution_count": null,
      "outputs": [
        {
          "output_type": "execute_result",
          "data": {
            "text/plain": [
              "<matplotlib.axes._subplots.AxesSubplot at 0x7f4560f83898>"
            ]
          },
          "metadata": {
            "tags": []
          },
          "execution_count": 20
        },
        {
          "output_type": "display_data",
          "data": {
            "image/png": "[encoded data removed]",
            "text/plain": [
              "<Figure size 432x288 with 1 Axes>"
            ]
          },
          "metadata": {
            "tags": [],
            "needs_background": "light"
          }
        }
      ]
    },
    {
      "cell_type": "code",
      "metadata": {
        "colab": {
          "base_uri": "https://localhost:8080/",
          "height": 281
        },
        "id": "xjv4ZnFqtTJ-",
        "outputId": "954f1e3c-8a0d-4879-ed2a-e11cc737d820"
      },
      "source": [
        "dval.text.apply(lambda x: len(x)).hist()"
      ],
      "execution_count": null,
      "outputs": [
        {
          "output_type": "execute_result",
          "data": {
            "text/plain": [
              "<matplotlib.axes._subplots.AxesSubplot at 0x7f456102c9e8>"
            ]
          },
          "metadata": {
            "tags": []
          },
          "execution_count": 21
        },
        {
          "output_type": "display_data",
          "data": {
            "image/png": "[encoded data removed]",
            "text/plain": [
              "<Figure size 432x288 with 1 Axes>"
            ]
          },
          "metadata": {
            "tags": [],
            "needs_background": "light"
          }
        }
      ]
    },
    {
      "cell_type": "code",
      "metadata": {
        "colab": {
          "base_uri": "https://localhost:8080/",
          "height": 281
        },
        "id": "H-NBXIXZtV4N",
        "outputId": "64d31605-0ac7-4c5a-d253-ae89bf4fbc8c"
      },
      "source": [
        "dtest.text.apply(lambda x: len(x)).hist()"
      ],
      "execution_count": null,
      "outputs": [
        {
          "output_type": "execute_result",
          "data": {
            "text/plain": [
              "<matplotlib.axes._subplots.AxesSubplot at 0x7f4560ec3a58>"
            ]
          },
          "metadata": {
            "tags": []
          },
          "execution_count": 22
        },
        {
          "output_type": "display_data",
          "data": {
            "image/png": "[encoded data removed]",
            "text/plain": [
              "<Figure size 432x288 with 1 Axes>"
            ]
          },
          "metadata": {
            "tags": [],
            "needs_background": "light"
          }
        }
      ]
    },
    {
      "cell_type": "code",
      "metadata": {
        "id": "N-86pJUXtX2d"
      },
      "source": [
        "MAX_TEXT_SEQ = 36"
      ],
      "execution_count": null,
      "outputs": []
    },
    {
      "cell_type": "markdown",
      "metadata": {
        "id": "LULPkYYpDFYr"
      },
      "source": [
        "Get the maximum numeric value in the tokenized review"
      ]
    },
    {
      "cell_type": "code",
      "metadata": {
        "id": "lDsjJSmltjkV"
      },
      "source": [
        "MAX_TEXT = np.max([np.max(dtrain.text.apply(max)), np.max(dval.text.apply(max)),\n",
        "                   np.max(dtest.text.apply(max))])+2"
      ],
      "execution_count": null,
      "outputs": []
    },
    {
      "cell_type": "code",
      "metadata": {
        "colab": {
          "base_uri": "https://localhost:8080/"
        },
        "id": "XdIZv7Zuuf8N",
        "outputId": "381fcf3e-a9c7-4da3-ac4e-65ee480e9d25"
      },
      "source": [
        "MAX_TEXT"
      ],
      "execution_count": null,
      "outputs": [
        {
          "output_type": "execute_result",
          "data": {
            "text/plain": [
              "13235"
            ]
          },
          "metadata": {
            "tags": []
          },
          "execution_count": 25
        }
      ]
    },
    {
      "cell_type": "markdown",
      "metadata": {
        "id": "9hKNmOeTDO5K"
      },
      "source": [
        "Defining RNN model class"
      ]
    },
    {
      "cell_type": "code",
      "metadata": {
        "id": "NZnLldZGrISR"
      },
      "source": [
        "class RnnModel:\n",
        "\n",
        "  def get_keras_data(self,dataset):\n",
        "    X = {\n",
        "        'text': pad_sequences(dataset.text, maxlen=MAX_TEXT_SEQ)\n",
        "    }\n",
        "    return X\n",
        "  \n",
        "  def get_model(self):\n",
        "    #params\n",
        "    dr_r = 0.15\n",
        "    \n",
        "    #Input\n",
        "    text = Input(shape=[X_train[\"text\"].shape[1]], name=\"text\")\n",
        "    \n",
        "    #Embeddings layer\n",
        "    emb_text = Embedding(MAX_TEXT, 50)(text)\n",
        "    \n",
        "    #rnn layer\n",
        "    rnn_layer1 = GRU(64) (emb_text)\n",
        "    # using GRU layer for fast training as it has less paramaters than LSTM \n",
        "    # and most of the reviews are small\n",
        "\n",
        "    main_l = rnn_layer1\n",
        "    main_l = Dropout(dr_r) (Dense(64) (main_l))\n",
        "    main_l = BatchNormalization() (main_l)\n",
        "    main_l = Dropout(dr_r) (Dense(32) (main_l))\n",
        "    main_l = BatchNormalization() (main_l)\n",
        "    main_l = Dropout(dr_r) (Dense(16) (main_l))\n",
        "    main_l = BatchNormalization() (main_l)\n",
        " \n",
        "    #output\n",
        "    output = Dense(1, activation=\"sigmoid\") (main_l)\n",
        "    \n",
        "    #model\n",
        "    model = Model([text], output)\n",
        "    model.compile(loss=\"binary_crossentropy\", optimizer=\"adam\", metrics=[\"accuracy\"])\n",
        "    return model"
      ],
      "execution_count": null,
      "outputs": []
    },
    {
      "cell_type": "code",
      "metadata": {
        "id": "ZEbw9KHGrmID"
      },
      "source": [
        "mod=RnnModel()"
      ],
      "execution_count": null,
      "outputs": []
    },
    {
      "cell_type": "code",
      "metadata": {
        "id": "8PT2_hE8rmLt"
      },
      "source": [
        "X_train = mod.get_keras_data(dtrain)\n",
        "X_valid = mod.get_keras_data(dval)\n",
        "X_test  = mod.get_keras_data(dtest)"
      ],
      "execution_count": null,
      "outputs": []
    },
    {
      "cell_type": "code",
      "metadata": {
        "id": "eSRVTaDesEc4"
      },
      "source": [
        "model=mod.get_model()"
      ],
      "execution_count": null,
      "outputs": []
    },
    {
      "cell_type": "code",
      "metadata": {
        "colab": {
          "base_uri": "https://localhost:8080/"
        },
        "id": "jYQhdz7Ps7BK",
        "outputId": "e12f46c4-ca58-4c91-9ed9-7c623694f21e"
      },
      "source": [
        "model.summary()"
      ],
      "execution_count": null,
      "outputs": [
        {
          "output_type": "stream",
          "text": [
            "Model: \"functional_11\"\n",
            "_________________________________________________________________\n",
            "Layer (type)                 Output Shape              Param #   \n",
            "=================================================================\n",
            "text (InputLayer)            [(None, 36)]              0         \n",
            "_________________________________________________________________\n",
            "embedding_8 (Embedding)      (None, 36, 40)            529400    \n",
            "_________________________________________________________________\n",
            "gru_8 (GRU)                  (None, 64)                20352     \n",
            "_________________________________________________________________\n",
            "dense_32 (Dense)             (None, 64)                4160      \n",
            "_________________________________________________________________\n",
            "dropout_24 (Dropout)         (None, 64)                0         \n",
            "_________________________________________________________________\n",
            "batch_normalization_24 (Batc (None, 64)                256       \n",
            "_________________________________________________________________\n",
            "dense_33 (Dense)             (None, 32)                2080      \n",
            "_________________________________________________________________\n",
            "dropout_25 (Dropout)         (None, 32)                0         \n",
            "_________________________________________________________________\n",
            "batch_normalization_25 (Batc (None, 32)                128       \n",
            "_________________________________________________________________\n",
            "dense_34 (Dense)             (None, 16)                528       \n",
            "_________________________________________________________________\n",
            "dropout_26 (Dropout)         (None, 16)                0         \n",
            "_________________________________________________________________\n",
            "batch_normalization_26 (Batc (None, 16)                64        \n",
            "_________________________________________________________________\n",
            "dense_35 (Dense)             (None, 1)                 17        \n",
            "=================================================================\n",
            "Total params: 556,985\n",
            "Trainable params: 556,761\n",
            "Non-trainable params: 224\n",
            "_________________________________________________________________\n"
          ],
          "name": "stdout"
        }
      ]
    },
    {
      "cell_type": "code",
      "metadata": {
        "id": "zqZk25Rmw_yC"
      },
      "source": [
        "BATCH_SIZE = 32\n",
        "epochs = 15"
      ],
      "execution_count": null,
      "outputs": []
    },
    {
      "cell_type": "code",
      "metadata": {
        "colab": {
          "base_uri": "https://localhost:8080/"
        },
        "id": "W01wNbuOwlJ-",
        "outputId": "b382f093-1741-4192-8332-abe813c21fb5"
      },
      "source": [
        "model.fit(X_train, dtrain.airline_sentiment.values.astype(int), epochs=epochs, batch_size=BATCH_SIZE\n",
        "          , validation_data=(X_valid, dval.airline_sentiment.values.astype(int)))"
      ],
      "execution_count": null,
      "outputs": [
        {
          "output_type": "stream",
          "text": [
            "Epoch 1/15\n",
            "261/261 [==============================] - 7s 28ms/step - loss: 0.4888 - accuracy: 0.7660 - val_loss: 0.4350 - val_accuracy: 0.8030\n",
            "Epoch 2/15\n",
            "261/261 [==============================] - 7s 27ms/step - loss: 0.2116 - accuracy: 0.9264 - val_loss: 0.3358 - val_accuracy: 0.8580\n",
            "Epoch 3/15\n",
            "261/261 [==============================] - 7s 26ms/step - loss: 0.1145 - accuracy: 0.9620 - val_loss: 0.3690 - val_accuracy: 0.8811\n",
            "Epoch 4/15\n",
            "261/261 [==============================] - 7s 27ms/step - loss: 0.0778 - accuracy: 0.9742 - val_loss: 0.4800 - val_accuracy: 0.8845\n",
            "Epoch 5/15\n",
            "261/261 [==============================] - 7s 27ms/step - loss: 0.0518 - accuracy: 0.9832 - val_loss: 0.3308 - val_accuracy: 0.8947\n",
            "Epoch 6/15\n",
            "261/261 [==============================] - 7s 26ms/step - loss: 0.0359 - accuracy: 0.9878 - val_loss: 0.4058 - val_accuracy: 0.9008\n",
            "Epoch 7/15\n",
            "261/261 [==============================] - 7s 27ms/step - loss: 0.0318 - accuracy: 0.9898 - val_loss: 0.5333 - val_accuracy: 0.8655\n",
            "Epoch 8/15\n",
            "261/261 [==============================] - 7s 27ms/step - loss: 0.0491 - accuracy: 0.9827 - val_loss: 0.3954 - val_accuracy: 0.8974\n",
            "Epoch 9/15\n",
            "261/261 [==============================] - 7s 27ms/step - loss: 0.0416 - accuracy: 0.9857 - val_loss: 0.4001 - val_accuracy: 0.8988\n",
            "Epoch 10/15\n",
            "261/261 [==============================] - 7s 27ms/step - loss: 0.0218 - accuracy: 0.9932 - val_loss: 0.4425 - val_accuracy: 0.8920\n",
            "Epoch 11/15\n",
            "261/261 [==============================] - 7s 27ms/step - loss: 0.0179 - accuracy: 0.9945 - val_loss: 0.4396 - val_accuracy: 0.9062\n",
            "Epoch 12/15\n",
            "261/261 [==============================] - 7s 27ms/step - loss: 0.0186 - accuracy: 0.9936 - val_loss: 0.5044 - val_accuracy: 0.9042\n",
            "Epoch 13/15\n",
            "261/261 [==============================] - 7s 27ms/step - loss: 0.0176 - accuracy: 0.9938 - val_loss: 0.4851 - val_accuracy: 0.9035\n",
            "Epoch 14/15\n",
            "261/261 [==============================] - 7s 26ms/step - loss: 0.0177 - accuracy: 0.9951 - val_loss: 0.4899 - val_accuracy: 0.9008\n",
            "Epoch 15/15\n",
            "261/261 [==============================] - 7s 26ms/step - loss: 0.0123 - accuracy: 0.9959 - val_loss: 0.4914 - val_accuracy: 0.8947\n"
          ],
          "name": "stdout"
        },
        {
          "output_type": "execute_result",
          "data": {
            "text/plain": [
              "<tensorflow.python.keras.callbacks.History at 0x7f4555de8fd0>"
            ]
          },
          "metadata": {
            "tags": []
          },
          "execution_count": 164
        }
      ]
    },
    {
      "cell_type": "code",
      "metadata": {
        "colab": {
          "base_uri": "https://localhost:8080/"
        },
        "id": "TvhRw4pcz0p5",
        "outputId": "174421f3-77cc-4132-8590-c363264839d2"
      },
      "source": [
        "model.evaluate(X_test,dtest.airline_sentiment.values.astype(int))"
      ],
      "execution_count": null,
      "outputs": [
        {
          "output_type": "stream",
          "text": [
            "55/55 [==============================] - 0s 5ms/step - loss: 0.4323 - accuracy: 0.9036\n"
          ],
          "name": "stdout"
        },
        {
          "output_type": "execute_result",
          "data": {
            "text/plain": [
              "[0.43231865763664246, 0.9035796523094177]"
            ]
          },
          "metadata": {
            "tags": []
          },
          "execution_count": 165
        }
      ]
    },
    {
      "cell_type": "markdown",
      "metadata": {
        "id": "2USHYCjhAxlG"
      },
      "source": [
        "Training accuracy: 99%, \n",
        "Testing  accuracy: 90% "
      ]
    },
    {
      "cell_type": "markdown",
      "metadata": {
        "id": "F7wOJxkYEZOn"
      },
      "source": [
        "Saving the trained tokenizer for tokenizing text review for api calls"
      ]
    },
    {
      "cell_type": "code",
      "metadata": {
        "id": "JgRK3dVkuLm4"
      },
      "source": [
        "with open('tokenizer.pickle', 'wb') as handle:\n",
        "    pickle.dump(tok_raw, handle, protocol=pickle.HIGHEST_PROTOCOL)"
      ],
      "execution_count": null,
      "outputs": []
    },
    {
      "cell_type": "markdown",
      "metadata": {
        "id": "M_sfGTj3E4ca"
      },
      "source": [
        "Saving the model for inference in api calls "
      ]
    },
    {
      "cell_type": "code",
      "metadata": {
        "id": "OHreWe265-zO"
      },
      "source": [
        "model.save(\"Sentiment_RNN_model.h5\")"
      ],
      "execution_count": null,
      "outputs": []
    },
    {
      "cell_type": "code",
      "metadata": {
        "id": "LO_IWZoMFd6V"
      },
      "source": [
        ""
      ],
      "execution_count": null,
      "outputs": []
    },
    {
      "cell_type": "markdown",
      "metadata": {
        "id": "JlvCwx8uFelc"
      },
      "source": [
        "Using BERT Model"
      ]
    },
    {
      "cell_type": "code",
      "metadata": {
        "id": "GVLE0ie7zzKs"
      },
      "source": [
        "# !pip install transformers"
      ],
      "execution_count": null,
      "outputs": []
    },
    {
      "cell_type": "markdown",
      "metadata": {
        "id": "PlvEo0xeGNKj"
      },
      "source": [
        "Getting a pre_trained BERT model and tokenizer from huggingface's tranformers library"
      ]
    },
    {
      "cell_type": "code",
      "metadata": {
        "colab": {
          "base_uri": "https://localhost:8080/",
          "height": 169,
          "referenced_widgets": [
            "836ac09f715743d0ba18db3df63d5619",
            "0a7c21673eda44b4ab5ca516e55364a4",
            "0a4dd61ccfde49b89e222975c83c631f",
            "90d74880168941eb81a84e53d44ab663",
            "616d9bb85da04f1da081c54b4c097dd1",
            "6fe97c38f6fd4289a3b2b90a5d63a03d",
            "daa5d0795df0477ba4546798c31223fc",
            "431475bf75444ca0866d2328cfb08633"
          ]
        },
        "id": "rM8MSxxWzzNr",
        "outputId": "9e66c893-57e4-457f-9059-385ef0a8a356"
      },
      "source": [
        "from transformers import BertTokenizer, TFBertForSequenceClassification\n",
        "from transformers import InputExample, InputFeatures\n",
        "\n",
        "model = TFBertForSequenceClassification.from_pretrained(\"bert-base-uncased\")\n",
        "tokenizer = BertTokenizer.from_pretrained(\"bert-base-uncased\")"
      ],
      "execution_count": null,
      "outputs": [
        {
          "output_type": "stream",
          "text": [
            "Some layers from the model checkpoint at bert-base-uncased were not used when initializing TFBertForSequenceClassification: ['nsp___cls', 'mlm___cls']\n",
            "- This IS expected if you are initializing TFBertForSequenceClassification from the checkpoint of a model trained on another task or with another architecture (e.g. initializing a BertForSequenceClassification model from a BertForPreTraining model).\n",
            "- This IS NOT expected if you are initializing TFBertForSequenceClassification from the checkpoint of a model that you expect to be exactly identical (initializing a BertForSequenceClassification model from a BertForSequenceClassification model).\n",
            "Some layers of TFBertForSequenceClassification were not initialized from the model checkpoint at bert-base-uncased and are newly initialized: ['classifier', 'dropout_75']\n",
            "You should probably TRAIN this model on a down-stream task to be able to use it for predictions and inference.\n"
          ],
          "name": "stderr"
        },
        {
          "output_type": "display_data",
          "data": {
            "application/vnd.jupyter.widget-view+json": {
              "model_id": "836ac09f715743d0ba18db3df63d5619",
              "version_minor": 0,
              "version_major": 2
            },
            "text/plain": [
              "HBox(children=(FloatProgress(value=0.0, description='Downloading', max=231508.0, style=ProgressStyle(descripti…"
            ]
          },
          "metadata": {
            "tags": []
          }
        },
        {
          "output_type": "stream",
          "text": [
            "\n"
          ],
          "name": "stdout"
        }
      ]
    },
    {
      "cell_type": "markdown",
      "metadata": {
        "id": "hd9vtd1hFqfx"
      },
      "source": [
        "Preparing our data for training accoring to BERT's specification"
      ]
    },
    {
      "cell_type": "code",
      "metadata": {
        "id": "PBbB9Kb60USR"
      },
      "source": [
        "def convert_data_to_examples(train, test, DATA_COLUMN, LABEL_COLUMN): \n",
        "  \n",
        "  train_InputExamples = train.apply(lambda x: InputExample(guid=None,\n",
        "                                                          text_a = x[DATA_COLUMN], \n",
        "                                                          text_b = None,\n",
        "                                                          label = x[LABEL_COLUMN]), axis = 1)\n",
        "\n",
        "  validation_InputExamples = test.apply(lambda x: InputExample(guid=None, \n",
        "                                                          text_a = x[DATA_COLUMN], \n",
        "                                                          text_b = None,\n",
        "                                                          label = x[LABEL_COLUMN]), axis = 1)\n",
        "  \n",
        "  return train_InputExamples, validation_InputExamples"
      ],
      "execution_count": null,
      "outputs": []
    },
    {
      "cell_type": "code",
      "metadata": {
        "id": "SMS_hpvY0Vd_"
      },
      "source": [
        "def convert_examples_to_tf_dataset(examples, tokenizer, max_length=128):\n",
        "    features = [] # -> will hold InputFeatures to be converted later\n",
        "\n",
        "    for e in examples:\n",
        "\n",
        "        input_dict = tokenizer.encode_plus(\n",
        "            e.text_a,\n",
        "            add_special_tokens=True,\n",
        "            max_length=max_length, # truncates if len(s) > max_length\n",
        "            return_token_type_ids=True,\n",
        "            return_attention_mask=True,\n",
        "            pad_to_max_length=True, # pads to the right by default\n",
        "            truncation=True\n",
        "        )\n",
        "\n",
        "        input_ids, token_type_ids, attention_mask = (input_dict[\"input_ids\"],\n",
        "            input_dict[\"token_type_ids\"], input_dict['attention_mask'])\n",
        "\n",
        "        features.append(\n",
        "            InputFeatures(\n",
        "                input_ids=input_ids, attention_mask=attention_mask, token_type_ids=token_type_ids, label=e.label\n",
        "            )\n",
        "        )\n",
        "\n",
        "    def gen():\n",
        "        for f in features:\n",
        "            yield (\n",
        "                {\n",
        "                    \"input_ids\": f.input_ids,\n",
        "                    \"attention_mask\": f.attention_mask,\n",
        "                    \"token_type_ids\": f.token_type_ids,\n",
        "                },\n",
        "                f.label,\n",
        "            )\n",
        "\n",
        "    return tf.data.Dataset.from_generator(\n",
        "        gen,\n",
        "        ({\"input_ids\": tf.int32, \"attention_mask\": tf.int32, \"token_type_ids\": tf.int32}, tf.int64),\n",
        "        (\n",
        "            {\n",
        "                \"input_ids\": tf.TensorShape([None]),\n",
        "                \"attention_mask\": tf.TensorShape([None]),\n",
        "                \"token_type_ids\": tf.TensorShape([None]),\n",
        "            },\n",
        "            tf.TensorShape([]),\n",
        "        ),\n",
        "    )\n"
      ],
      "execution_count": null,
      "outputs": []
    },
    {
      "cell_type": "code",
      "metadata": {
        "colab": {
          "base_uri": "https://localhost:8080/",
          "height": 196
        },
        "id": "nZBMU-Jr1Amp",
        "outputId": "f87a347b-845f-4b0c-af8a-b8fff48e1851"
      },
      "source": [
        "df.head()"
      ],
      "execution_count": null,
      "outputs": [
        {
          "output_type": "execute_result",
          "data": {
            "text/html": [
              "<div>\n",
              "<style scoped>\n",
              "    .dataframe tbody tr th:only-of-type {\n",
              "        vertical-align: middle;\n",
              "    }\n",
              "\n",
              "    .dataframe tbody tr th {\n",
              "        vertical-align: top;\n",
              "    }\n",
              "\n",
              "    .dataframe thead th {\n",
              "        text-align: right;\n",
              "    }\n",
              "</style>\n",
              "<table border=\"1\" class=\"dataframe\">\n",
              "  <thead>\n",
              "    <tr style=\"text-align: right;\">\n",
              "      <th></th>\n",
              "      <th>airline_sentiment</th>\n",
              "      <th>text</th>\n",
              "    </tr>\n",
              "  </thead>\n",
              "  <tbody>\n",
              "    <tr>\n",
              "      <th>0</th>\n",
              "      <td>1</td>\n",
              "      <td>@VirginAmerica plus you've added commercials t...</td>\n",
              "    </tr>\n",
              "    <tr>\n",
              "      <th>1</th>\n",
              "      <td>0</td>\n",
              "      <td>@VirginAmerica it's really aggressive to blast...</td>\n",
              "    </tr>\n",
              "    <tr>\n",
              "      <th>2</th>\n",
              "      <td>0</td>\n",
              "      <td>@VirginAmerica and it's a really big bad thing...</td>\n",
              "    </tr>\n",
              "    <tr>\n",
              "      <th>3</th>\n",
              "      <td>0</td>\n",
              "      <td>@VirginAmerica seriously would pay $30 a fligh...</td>\n",
              "    </tr>\n",
              "    <tr>\n",
              "      <th>4</th>\n",
              "      <td>1</td>\n",
              "      <td>@VirginAmerica yes, nearly every time I fly VX...</td>\n",
              "    </tr>\n",
              "  </tbody>\n",
              "</table>\n",
              "</div>"
            ],
            "text/plain": [
              "  airline_sentiment                                               text\n",
              "0                 1  @VirginAmerica plus you've added commercials t...\n",
              "1                 0  @VirginAmerica it's really aggressive to blast...\n",
              "2                 0  @VirginAmerica and it's a really big bad thing...\n",
              "3                 0  @VirginAmerica seriously would pay $30 a fligh...\n",
              "4                 1  @VirginAmerica yes, nearly every time I fly VX..."
            ]
          },
          "metadata": {
            "tags": []
          },
          "execution_count": 26
        }
      ]
    },
    {
      "cell_type": "code",
      "metadata": {
        "id": "vJI6Nm4C1LAJ"
      },
      "source": [
        "train,test=train_test_split(df,train_size=0.85)"
      ],
      "execution_count": null,
      "outputs": []
    },
    {
      "cell_type": "code",
      "metadata": {
        "colab": {
          "base_uri": "https://localhost:8080/"
        },
        "id": "O1B1Wmzk0kAk",
        "outputId": "88583ebc-ca35-40d4-a25b-8b0fe0e232a4"
      },
      "source": [
        "DATA_COLUMN = 'text'\n",
        "LABEL_COLUMN = 'airline_sentiment'\n",
        "\n",
        "\n",
        "train_InputExamples, validation_InputExamples = convert_data_to_examples(train, test, DATA_COLUMN, LABEL_COLUMN)\n",
        "\n",
        "train_data = convert_examples_to_tf_dataset(list(train_InputExamples), tokenizer)\n",
        "train_data = train_data.shuffle(100).batch(32).repeat(2)\n",
        "\n",
        "validation_data = convert_examples_to_tf_dataset(list(validation_InputExamples), tokenizer)\n",
        "validation_data = validation_data.batch(32)"
      ],
      "execution_count": null,
      "outputs": [
        {
          "output_type": "stream",
          "text": [
            "/usr/local/lib/python3.6/dist-packages/transformers/tokenization_utils_base.py:2022: FutureWarning: The `pad_to_max_length` argument is deprecated and will be removed in a future version, use `padding=True` or `padding='longest'` to pad to the longest sequence in the batch, or use `padding='max_length'` to pad to a max length. In this case, you can give a specific length with `max_length` (e.g. `max_length=45`) or leave max_length to None to pad to the maximal input size of the model (e.g. 512 for Bert).\n",
            "  FutureWarning,\n"
          ],
          "name": "stderr"
        }
      ]
    },
    {
      "cell_type": "code",
      "metadata": {
        "colab": {
          "base_uri": "https://localhost:8080/"
        },
        "id": "wW5x2_071Wow",
        "outputId": "2a80f518-8a6c-41e4-88f9-d9fab1c9ed09"
      },
      "source": [
        "optimizer = tf.keras.optimizers.Adam(learning_rate=3e-5, epsilon=1e-08, clipnorm=1.0)\n",
        "loss = tf.keras.losses.SparseCategoricalCrossentropy(from_logits=True)\n",
        "metric = tf.keras.metrics.SparseCategoricalAccuracy('accuracy')\n",
        "\n",
        "model.compile(optimizer=optimizer, loss=loss, metrics=[metric])\n",
        "\n",
        "model.fit(train_data, epochs=7, validation_data=validation_data)"
      ],
      "execution_count": null,
      "outputs": [
        {
          "output_type": "stream",
          "text": [
            "Epoch 1/7\n",
            "614/614 [==============================] - 507s 825ms/step - loss: 0.1365 - accuracy: 0.9487 - val_loss: 0.1849 - val_accuracy: 0.9480\n",
            "Epoch 2/7\n",
            "614/614 [==============================] - 507s 826ms/step - loss: 0.0259 - accuracy: 0.9917 - val_loss: 0.2116 - val_accuracy: 0.9509\n",
            "Epoch 3/7\n",
            "614/614 [==============================] - 507s 826ms/step - loss: 0.0115 - accuracy: 0.9960 - val_loss: 0.2932 - val_accuracy: 0.9411\n",
            "Epoch 4/7\n",
            "614/614 [==============================] - 509s 829ms/step - loss: 0.0105 - accuracy: 0.9968 - val_loss: 0.2936 - val_accuracy: 0.9469\n",
            "Epoch 5/7\n",
            "614/614 [==============================] - 508s 827ms/step - loss: 0.0068 - accuracy: 0.9977 - val_loss: 0.2595 - val_accuracy: 0.9503\n",
            "Epoch 6/7\n",
            "614/614 [==============================] - 507s 826ms/step - loss: 0.0073 - accuracy: 0.9975 - val_loss: 0.2554 - val_accuracy: 0.9555\n",
            "Epoch 7/7\n",
            "614/614 [==============================] - 509s 830ms/step - loss: 0.0051 - accuracy: 0.9980 - val_loss: 0.2822 - val_accuracy: 0.9452\n"
          ],
          "name": "stdout"
        },
        {
          "output_type": "execute_result",
          "data": {
            "text/plain": [
              "<tensorflow.python.keras.callbacks.History at 0x7f4be3372a20>"
            ]
          },
          "metadata": {
            "tags": []
          },
          "execution_count": 29
        }
      ]
    },
    {
      "cell_type": "markdown",
      "metadata": {
        "id": "bOsTg_KcFnG1"
      },
      "source": [
        "Training Accuracy: 99%, \n",
        "Testing Accuracy: 95%"
      ]
    },
    {
      "cell_type": "code",
      "metadata": {
        "id": "F311w85pFv7t"
      },
      "source": [
        ""
      ],
      "execution_count": null,
      "outputs": []
    }
  ]
}